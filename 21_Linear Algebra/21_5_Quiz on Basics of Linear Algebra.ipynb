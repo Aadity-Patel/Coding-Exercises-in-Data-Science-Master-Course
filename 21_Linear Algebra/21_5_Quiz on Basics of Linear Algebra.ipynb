{
 "cells": [
  {
   "cell_type": "markdown",
   "metadata": {},
   "source": [
    "### Q1. Infinite Norm\n",
    "Compute the infinite norm of the following matrix\n",
    "\n",
    "2\t-2\t1<br>\n",
    "-1\t2\t-1<br>\n",
    "2\t-4\t1"
   ]
  },
  {
   "cell_type": "code",
   "execution_count": 1,
   "metadata": {},
   "outputs": [],
   "source": [
    "import numpy as np"
   ]
  },
  {
   "cell_type": "code",
   "execution_count": 2,
   "metadata": {},
   "outputs": [],
   "source": [
    "a = np.array([[2,-2,1],[-1,2,-1],[2,-4,1]])"
   ]
  },
  {
   "cell_type": "code",
   "execution_count": 3,
   "metadata": {},
   "outputs": [
    {
     "name": "stdout",
     "output_type": "stream",
     "text": [
      "[[ 2 -2  1]\n",
      " [-1  2 -1]\n",
      " [ 2 -4  1]]\n"
     ]
    }
   ],
   "source": [
    "print(a)"
   ]
  },
  {
   "cell_type": "code",
   "execution_count": 4,
   "metadata": {},
   "outputs": [],
   "source": [
    "linf = np.linalg.norm(a, ord = np.inf)"
   ]
  },
  {
   "cell_type": "code",
   "execution_count": 5,
   "metadata": {},
   "outputs": [
    {
     "name": "stdout",
     "output_type": "stream",
     "text": [
      "7.0\n"
     ]
    }
   ],
   "source": [
    "print(linf)"
   ]
  },
  {
   "cell_type": "markdown",
   "metadata": {},
   "source": [
    "### Q2. Frobenius Norm\n",
    "The L2 norm is also called as Frobenius norm. Compute the Frobenius norm of the following matrix\n",
    "\n",
    "2\t-2\t1<br>\n",
    "-1\t2\t-1<br>\n",
    "2\t-4\t1"
   ]
  },
  {
   "cell_type": "code",
   "execution_count": 6,
   "metadata": {},
   "outputs": [],
   "source": [
    "l2 = np.linalg.norm(a)"
   ]
  },
  {
   "cell_type": "code",
   "execution_count": 7,
   "metadata": {},
   "outputs": [
    {
     "name": "stdout",
     "output_type": "stream",
     "text": [
      "6.0\n"
     ]
    }
   ],
   "source": [
    "print(l2)"
   ]
  },
  {
   "cell_type": "markdown",
   "metadata": {},
   "source": [
    "### Q3. Matrix Multiplication\n",
    "Let A matrix be\n",
    "\n",
    "1\t-3\t4<br>\n",
    "-2\t10\t-7<br>\n",
    "0\t1\t0<br>\n",
    "0\t0\t0\n",
    "\n",
    "Let B matrix be\n",
    "\n",
    "5\t0<br>\n",
    "-2\t11<br>\n",
    "-3\t12\n",
    "\n",
    "Which of the following matrices is equal to the matrix AB ?"
   ]
  },
  {
   "cell_type": "code",
   "execution_count": 9,
   "metadata": {},
   "outputs": [],
   "source": [
    "A = np.array([[1,-3,4],[-2,10,-7],[0,1,0],[0,0,0]])"
   ]
  },
  {
   "cell_type": "code",
   "execution_count": 10,
   "metadata": {},
   "outputs": [],
   "source": [
    "B = np.array([[5,0],[-2,11],[-3,12]])"
   ]
  },
  {
   "cell_type": "code",
   "execution_count": 11,
   "metadata": {},
   "outputs": [
    {
     "name": "stdout",
     "output_type": "stream",
     "text": [
      "[[-1 15]\n",
      " [-9 26]\n",
      " [-2 11]\n",
      " [ 0  0]]\n"
     ]
    }
   ],
   "source": [
    "print(np.dot(A,B))"
   ]
  },
  {
   "cell_type": "markdown",
   "metadata": {},
   "source": [
    "<h3>Q4. Broadcasting</h3><br>\n",
    "What is the motivation behind broadcasting?\n",
    "\n",
    "(a) It copies array data to arrays of appropriate shapes so they may be combined.\n",
    "\n",
    "(b) It saves computational time by spreading operations over different CPUs\n",
    "\n",
    "(c) Both are correct\n",
    "\n",
    "(d) None of the above is correct"
   ]
  },
  {
   "cell_type": "markdown",
   "metadata": {},
   "source": [
    "Answer - (c)"
   ]
  },
  {
   "cell_type": "markdown",
   "metadata": {},
   "source": [
    "<h3>Q5. Square Matrices</h3><br>\n",
    "Let A and B be two 3x3 matrix then which of the following is true?\n",
    "\n",
    "(a) if C=A*B then C will be a 6X6 matrix\n",
    "\n",
    "(b) If v is a 3 dimensional vector then A * B * v is a 3 dimensional matrix\n",
    "\n",
    "(c) A * B * A = B * A * B\n",
    "\n",
    "Answer - (b)"
   ]
  },
  {
   "cell_type": "code",
   "execution_count": null,
   "metadata": {},
   "outputs": [],
   "source": []
  }
 ],
 "metadata": {
  "kernelspec": {
   "display_name": "Python 3",
   "language": "python",
   "name": "python3"
  },
  "language_info": {
   "codemirror_mode": {
    "name": "ipython",
    "version": 3
   },
   "file_extension": ".py",
   "mimetype": "text/x-python",
   "name": "python",
   "nbconvert_exporter": "python",
   "pygments_lexer": "ipython3",
   "version": "3.7.4"
  }
 },
 "nbformat": 4,
 "nbformat_minor": 2
}
